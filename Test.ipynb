{
 "cells": [
  {
   "cell_type": "code",
   "execution_count": 32,
   "id": "f31fe681",
   "metadata": {},
   "outputs": [],
   "source": [
    "import pandas as pd\n",
    "import matplotlib.pyplot as plt\n",
    "import numpy as np\n",
    "from sklearn.model_selection import cross_val_score"
   ]
  },
  {
   "cell_type": "code",
   "execution_count": 33,
   "id": "c61c93c4",
   "metadata": {},
   "outputs": [],
   "source": [
    "%matplotlib inline\n",
    "%config Completer.use_jedi = False"
   ]
  },
  {
   "cell_type": "code",
   "execution_count": 136,
   "id": "b2b110fd",
   "metadata": {},
   "outputs": [],
   "source": [
    "dataset_path = \"data/mammographic_masses.data\"\n",
    "dataset_columns = [\"BI-RADS_Assessment\", \"Age\", \"Shape\", \"Margin\", \"Density\", \"Severity\"]"
   ]
  },
  {
   "cell_type": "code",
   "execution_count": 137,
   "id": "72067359",
   "metadata": {},
   "outputs": [],
   "source": [
    "dataset = pd.read_csv(dataset_path, names=dataset_columns)"
   ]
  },
  {
   "cell_type": "markdown",
   "id": "ef24164e",
   "metadata": {},
   "source": [
    "# 1. Preprocessing"
   ]
  },
  {
   "cell_type": "markdown",
   "id": "c28c79b6",
   "metadata": {},
   "source": [
    "## a. Data exploration"
   ]
  },
  {
   "cell_type": "code",
   "execution_count": 138,
   "id": "969c5ce9",
   "metadata": {},
   "outputs": [],
   "source": [
    "dataset.drop(columns=[\"BI-RADS_Assessment\"], axis=1, inplace=True)"
   ]
  },
  {
   "cell_type": "code",
   "execution_count": 139,
   "id": "533ec10c",
   "metadata": {},
   "outputs": [
    {
     "data": {
      "text/html": [
       "<div>\n",
       "<style scoped>\n",
       "    .dataframe tbody tr th:only-of-type {\n",
       "        vertical-align: middle;\n",
       "    }\n",
       "\n",
       "    .dataframe tbody tr th {\n",
       "        vertical-align: top;\n",
       "    }\n",
       "\n",
       "    .dataframe thead th {\n",
       "        text-align: right;\n",
       "    }\n",
       "</style>\n",
       "<table border=\"1\" class=\"dataframe\">\n",
       "  <thead>\n",
       "    <tr style=\"text-align: right;\">\n",
       "      <th></th>\n",
       "      <th>Age</th>\n",
       "      <th>Shape</th>\n",
       "      <th>Margin</th>\n",
       "      <th>Density</th>\n",
       "      <th>Severity</th>\n",
       "    </tr>\n",
       "  </thead>\n",
       "  <tbody>\n",
       "    <tr>\n",
       "      <th>0</th>\n",
       "      <td>67</td>\n",
       "      <td>3</td>\n",
       "      <td>5</td>\n",
       "      <td>3</td>\n",
       "      <td>1</td>\n",
       "    </tr>\n",
       "    <tr>\n",
       "      <th>1</th>\n",
       "      <td>43</td>\n",
       "      <td>1</td>\n",
       "      <td>1</td>\n",
       "      <td>?</td>\n",
       "      <td>1</td>\n",
       "    </tr>\n",
       "    <tr>\n",
       "      <th>2</th>\n",
       "      <td>58</td>\n",
       "      <td>4</td>\n",
       "      <td>5</td>\n",
       "      <td>3</td>\n",
       "      <td>1</td>\n",
       "    </tr>\n",
       "    <tr>\n",
       "      <th>3</th>\n",
       "      <td>28</td>\n",
       "      <td>1</td>\n",
       "      <td>1</td>\n",
       "      <td>3</td>\n",
       "      <td>0</td>\n",
       "    </tr>\n",
       "    <tr>\n",
       "      <th>4</th>\n",
       "      <td>74</td>\n",
       "      <td>1</td>\n",
       "      <td>5</td>\n",
       "      <td>?</td>\n",
       "      <td>1</td>\n",
       "    </tr>\n",
       "  </tbody>\n",
       "</table>\n",
       "</div>"
      ],
      "text/plain": [
       "  Age Shape Margin Density  Severity\n",
       "0  67     3      5       3         1\n",
       "1  43     1      1       ?         1\n",
       "2  58     4      5       3         1\n",
       "3  28     1      1       3         0\n",
       "4  74     1      5       ?         1"
      ]
     },
     "execution_count": 139,
     "metadata": {},
     "output_type": "execute_result"
    }
   ],
   "source": [
    "dataset.head()"
   ]
  },
  {
   "cell_type": "code",
   "execution_count": 140,
   "id": "e5f4988b",
   "metadata": {
    "scrolled": true
   },
   "outputs": [
    {
     "data": {
      "text/html": [
       "<div>\n",
       "<style scoped>\n",
       "    .dataframe tbody tr th:only-of-type {\n",
       "        vertical-align: middle;\n",
       "    }\n",
       "\n",
       "    .dataframe tbody tr th {\n",
       "        vertical-align: top;\n",
       "    }\n",
       "\n",
       "    .dataframe thead th {\n",
       "        text-align: right;\n",
       "    }\n",
       "</style>\n",
       "<table border=\"1\" class=\"dataframe\">\n",
       "  <thead>\n",
       "    <tr style=\"text-align: right;\">\n",
       "      <th></th>\n",
       "      <th>Severity</th>\n",
       "    </tr>\n",
       "  </thead>\n",
       "  <tbody>\n",
       "    <tr>\n",
       "      <th>count</th>\n",
       "      <td>961.000000</td>\n",
       "    </tr>\n",
       "    <tr>\n",
       "      <th>mean</th>\n",
       "      <td>0.463059</td>\n",
       "    </tr>\n",
       "    <tr>\n",
       "      <th>std</th>\n",
       "      <td>0.498893</td>\n",
       "    </tr>\n",
       "    <tr>\n",
       "      <th>min</th>\n",
       "      <td>0.000000</td>\n",
       "    </tr>\n",
       "    <tr>\n",
       "      <th>25%</th>\n",
       "      <td>0.000000</td>\n",
       "    </tr>\n",
       "    <tr>\n",
       "      <th>50%</th>\n",
       "      <td>0.000000</td>\n",
       "    </tr>\n",
       "    <tr>\n",
       "      <th>75%</th>\n",
       "      <td>1.000000</td>\n",
       "    </tr>\n",
       "    <tr>\n",
       "      <th>max</th>\n",
       "      <td>1.000000</td>\n",
       "    </tr>\n",
       "  </tbody>\n",
       "</table>\n",
       "</div>"
      ],
      "text/plain": [
       "         Severity\n",
       "count  961.000000\n",
       "mean     0.463059\n",
       "std      0.498893\n",
       "min      0.000000\n",
       "25%      0.000000\n",
       "50%      0.000000\n",
       "75%      1.000000\n",
       "max      1.000000"
      ]
     },
     "execution_count": 140,
     "metadata": {},
     "output_type": "execute_result"
    }
   ],
   "source": [
    "dataset.describe()"
   ]
  },
  {
   "cell_type": "markdown",
   "id": "eefa4a1f",
   "metadata": {},
   "source": [
    "## b. Missing values"
   ]
  },
  {
   "cell_type": "code",
   "execution_count": 141,
   "id": "660cd89c",
   "metadata": {},
   "outputs": [],
   "source": [
    "dataset = dataset.replace(\"?\", np.NaN).astype(\"float\")"
   ]
  },
  {
   "cell_type": "code",
   "execution_count": 142,
   "id": "887f04f8",
   "metadata": {},
   "outputs": [
    {
     "data": {
      "text/plain": [
       "Age          5\n",
       "Shape       31\n",
       "Margin      48\n",
       "Density     76\n",
       "Severity     0\n",
       "dtype: int64"
      ]
     },
     "execution_count": 142,
     "metadata": {},
     "output_type": "execute_result"
    }
   ],
   "source": [
    "dataset.isna().sum()"
   ]
  },
  {
   "cell_type": "code",
   "execution_count": 143,
   "id": "c3a0e010",
   "metadata": {},
   "outputs": [],
   "source": [
    "# alternative: dropping rows with missing values\n",
    "# dataset.dropna(inplace=True)"
   ]
  },
  {
   "cell_type": "code",
   "execution_count": 144,
   "id": "7ad9d315",
   "metadata": {
    "scrolled": true
   },
   "outputs": [],
   "source": [
    "# impute age and density cols (ordinal)\n",
    "ordinal_cols = [\"Age\", \"Density\"]\n",
    "for col in ordinal_cols:\n",
    "    dataset[col] = dataset[col].fillna(dataset[col].mean().round(0))"
   ]
  },
  {
   "cell_type": "code",
   "execution_count": 145,
   "id": "6423b6be",
   "metadata": {},
   "outputs": [],
   "source": [
    "# impute nominal cols\n",
    "from sklearn.impute import SimpleImputer\n",
    "simple_imputer = SimpleImputer(strategy=\"most_frequent\")\n",
    "imputed_data = simple_imputer.fit_transform(dataset.values)\n",
    "dataset = pd.DataFrame.from_records(imputed_data, columns=dataset.columns)"
   ]
  },
  {
   "cell_type": "code",
   "execution_count": 146,
   "id": "e362f422",
   "metadata": {
    "scrolled": true
   },
   "outputs": [
    {
     "data": {
      "text/plain": [
       "True"
      ]
     },
     "execution_count": 146,
     "metadata": {},
     "output_type": "execute_result"
    }
   ],
   "source": [
    "all(dataset.notnull())"
   ]
  },
  {
   "cell_type": "markdown",
   "id": "c2f4980f",
   "metadata": {},
   "source": [
    "## c. Nominal data"
   ]
  },
  {
   "cell_type": "code",
   "execution_count": 147,
   "id": "44b26442",
   "metadata": {},
   "outputs": [],
   "source": [
    "# Dummy encoding\n",
    "nominal_cols = [\"Shape\", \"Margin\"]\n",
    "dataset = pd.concat([dataset, pd.get_dummies(dataset[nominal_cols].astype(str), drop_first=True)], axis=1)\n",
    "dataset.drop(columns=nominal_cols, axis=1, inplace=True)"
   ]
  },
  {
   "cell_type": "markdown",
   "id": "c6adaf4c",
   "metadata": {},
   "source": [
    "## d. Label extraction"
   ]
  },
  {
   "cell_type": "code",
   "execution_count": 148,
   "id": "edbf2ebd",
   "metadata": {},
   "outputs": [],
   "source": [
    "y_labels = [\"Severity\"]\n",
    "X_features = [col for col in dataset.columns if col not in y_labels]\n",
    "X = dataset[X_features].values\n",
    "y = dataset[y_labels].values.reshape(-1,)"
   ]
  },
  {
   "cell_type": "code",
   "execution_count": 149,
   "id": "a4dffdfb",
   "metadata": {},
   "outputs": [
    {
     "name": "stdout",
     "output_type": "stream",
     "text": [
      "X: (961, 9), y: (961,)\n"
     ]
    }
   ],
   "source": [
    "print(f\"X: {X.shape}, y: {y.shape}\")"
   ]
  },
  {
   "cell_type": "markdown",
   "id": "86c8f160",
   "metadata": {},
   "source": [
    "## e. Feature scaling"
   ]
  },
  {
   "cell_type": "code",
   "execution_count": 150,
   "id": "489117cf",
   "metadata": {},
   "outputs": [],
   "source": [
    "from sklearn.preprocessing import StandardScaler\n",
    "\n",
    "standard_scalar = StandardScaler()\n",
    "X_scaled = standard_scalar.fit_transform(X)"
   ]
  },
  {
   "cell_type": "code",
   "execution_count": 151,
   "id": "5ba67c59",
   "metadata": {},
   "outputs": [],
   "source": [
    "from sklearn.preprocessing import MinMaxScaler\n",
    "\n",
    "min_max_scaler = MinMaxScaler()\n",
    "X_scaled_mm = min_max_scaler.fit_transform(X)"
   ]
  },
  {
   "cell_type": "markdown",
   "id": "86ccb01a",
   "metadata": {},
   "source": [
    "# 2. Model Selection"
   ]
  },
  {
   "cell_type": "code",
   "execution_count": 50,
   "id": "92fbefdf",
   "metadata": {},
   "outputs": [
    {
     "data": {
      "text/plain": [
       "0.7378329037800688"
      ]
     },
     "execution_count": 50,
     "metadata": {},
     "output_type": "execute_result"
    }
   ],
   "source": [
    "from sklearn import tree\n",
    "\n",
    "decision_tree_clf = tree.DecisionTreeClassifier(random_state=0)\n",
    "score_ = cross_val_score(decision_tree_clf, X_scaled, y, cv=10)\n",
    "score_.mean()"
   ]
  },
  {
   "cell_type": "code",
   "execution_count": 51,
   "id": "d5c81736",
   "metadata": {},
   "outputs": [
    {
     "data": {
      "text/plain": [
       "0.7596649484536082"
      ]
     },
     "execution_count": 51,
     "metadata": {},
     "output_type": "execute_result"
    }
   ],
   "source": [
    "from sklearn.ensemble import RandomForestClassifier\n",
    "\n",
    "random_forest_clf = RandomForestClassifier(n_estimators=10, random_state=0)\n",
    "score_ = cross_val_score(random_forest_clf, X_scaled, y, cv=10)\n",
    "score_.mean()"
   ]
  },
  {
   "cell_type": "code",
   "execution_count": 52,
   "id": "857c98a3",
   "metadata": {},
   "outputs": [
    {
     "name": "stdout",
     "output_type": "stream",
     "text": [
      "linear 0.7856314432989692\n",
      "rbf 0.786683848797251\n",
      "poly 0.7866838487972508\n",
      "sigmoid 0.7253436426116838\n"
     ]
    }
   ],
   "source": [
    "from sklearn import svm\n",
    "\n",
    "kernels = [\"linear\", \"rbf\", \"poly\", \"sigmoid\"]\n",
    "for kernel in kernels:\n",
    "    svm_clf = svm.SVC(kernel=kernel)\n",
    "    mean_score_ = cross_val_score(svm_clf, X_scaled, y, cv=10).mean()\n",
    "    print(kernel, mean_score_)"
   ]
  },
  {
   "cell_type": "code",
   "execution_count": 53,
   "id": "00f7fc5a",
   "metadata": {},
   "outputs": [
    {
     "name": "stdout",
     "output_type": "stream",
     "text": [
      "9 0.7939647766323025\n"
     ]
    }
   ],
   "source": [
    "from sklearn import neighbors\n",
    "\n",
    "best_n = 0\n",
    "best_score = -1\n",
    "for n in range(2, 40):\n",
    "    knn_clf = neighbors.KNeighborsClassifier(n_neighbors=n)\n",
    "    mean_score_ = cross_val_score(knn_clf, X_scaled, y, cv=10).mean()\n",
    "    if mean_score_ > best_score:\n",
    "        best_n = n\n",
    "        best_score = mean_score_\n",
    "print(best_n, best_score)"
   ]
  },
  {
   "cell_type": "code",
   "execution_count": 54,
   "id": "4b789647",
   "metadata": {},
   "outputs": [
    {
     "data": {
      "text/plain": [
       "0.7877040378006873"
      ]
     },
     "execution_count": 54,
     "metadata": {},
     "output_type": "execute_result"
    }
   ],
   "source": [
    "from sklearn.naive_bayes import MultinomialNB\n",
    "\n",
    "nb_clf = MultinomialNB()\n",
    "score_ = cross_val_score(nb_clf, X_scaled_mm, y, cv=10)\n",
    "score_.mean()"
   ]
  },
  {
   "cell_type": "code",
   "execution_count": 152,
   "id": "72fb60be",
   "metadata": {},
   "outputs": [],
   "source": [
    "from tensorflow.keras.layers import Dense\n",
    "from tensorflow.keras.models import Sequential\n",
    "import tensorflow.keras.backend as K\n",
    "\n",
    "def gaussian(x):\n",
    "    return K.exp(-K.pow(x,2))\n",
    "\n",
    "def setup_model():\n",
    "    model = Sequential()\n",
    "    model.add(Dense(19, input_dim=9, kernel_initializer=\"normal\", activation=\"relu\"))\n",
    "    model.add(Dense(1, kernel_initializer=\"normal\", activation=\"sigmoid\"))\n",
    "    model.compile(loss=\"binary_crossentropy\", optimizer=\"rmsprop\", metrics=[\"accuracy\"])\n",
    "    return model"
   ]
  },
  {
   "cell_type": "code",
   "execution_count": 153,
   "id": "2241233c",
   "metadata": {},
   "outputs": [
    {
     "name": "stdout",
     "output_type": "stream",
     "text": [
      "Model: \"sequential_183\"\n",
      "_________________________________________________________________\n",
      "Layer (type)                 Output Shape              Param #   \n",
      "=================================================================\n",
      "dense_431 (Dense)            (None, 19)                190       \n",
      "_________________________________________________________________\n",
      "dense_432 (Dense)            (None, 1)                 20        \n",
      "=================================================================\n",
      "Total params: 210\n",
      "Trainable params: 210\n",
      "Non-trainable params: 0\n",
      "_________________________________________________________________\n"
     ]
    }
   ],
   "source": [
    "model = setup_model()\n",
    "model.summary()"
   ]
  },
  {
   "cell_type": "code",
   "execution_count": 154,
   "id": "74353e2a",
   "metadata": {},
   "outputs": [
    {
     "name": "stdout",
     "output_type": "stream",
     "text": [
      "27/27 [==============================] - 0s 4ms/step - loss: 0.6841 - accuracy: 0.7338\n",
      "4/4 [==============================] - 0s 2ms/step - loss: 0.6786 - accuracy: 0.8247\n",
      "28/28 [==============================] - 0s 5ms/step - loss: 0.6822 - accuracy: 0.7399\n",
      "3/3 [==============================] - 0s 3ms/step - loss: 0.6697 - accuracy: 0.7812\n",
      "28/28 [==============================] - 0s 5ms/step - loss: 0.6816 - accuracy: 0.7353\n",
      "3/3 [==============================] - 0s 14ms/step - loss: 0.6691 - accuracy: 0.7500\n",
      "28/28 [==============================] - 0s 4ms/step - loss: 0.6721 - accuracy: 0.7919\n",
      "3/3 [==============================] - 0s 1ms/step - loss: 0.6522 - accuracy: 0.8646\n",
      "28/28 [==============================] - 0s 5ms/step - loss: 0.6827 - accuracy: 0.7202\n",
      "3/3 [==============================] - 0s 2ms/step - loss: 0.6719 - accuracy: 0.7917\n",
      "28/28 [==============================] - 0s 5ms/step - loss: 0.6857 - accuracy: 0.6555\n",
      "3/3 [==============================] - 0s 3ms/step - loss: 0.6739 - accuracy: 0.7708\n",
      "28/28 [==============================] - 0s 4ms/step - loss: 0.6811 - accuracy: 0.6705\n",
      "3/3 [==============================] - 0s 2ms/step - loss: 0.6775 - accuracy: 0.7083\n",
      "28/28 [==============================] - 0s 16ms/step - loss: 0.6786 - accuracy: 0.6867\n",
      "3/3 [==============================] - 0s 1ms/step - loss: 0.6648 - accuracy: 0.6562\n",
      "28/28 [==============================] - 0s 5ms/step - loss: 0.6731 - accuracy: 0.7665\n",
      "3/3 [==============================] - 0s 1ms/step - loss: 0.6536 - accuracy: 0.7812\n",
      "28/28 [==============================] - 0s 5ms/step - loss: 0.6825 - accuracy: 0.7156\n",
      "3/3 [==============================] - 0s 2ms/step - loss: 0.6730 - accuracy: 0.7604\n"
     ]
    },
    {
     "data": {
      "text/plain": [
       "0.768932557106018"
      ]
     },
     "execution_count": 154,
     "metadata": {},
     "output_type": "execute_result"
    }
   ],
   "source": [
    "from tensorflow.keras.wrappers.scikit_learn import KerasClassifier\n",
    "nn_clf = KerasClassifier(build_fn=setup_model, nb_epoch=100, verbose=1)\n",
    "score_ = cross_val_score(nn_clf, X_scaled, y, cv=10)\n",
    "score_.mean()"
   ]
  },
  {
   "cell_type": "code",
   "execution_count": null,
   "id": "fe369263",
   "metadata": {},
   "outputs": [],
   "source": []
  }
 ],
 "metadata": {
  "kernelspec": {
   "display_name": "Python [conda env:aiml] *",
   "language": "python",
   "name": "conda-env-aiml-py"
  },
  "language_info": {
   "codemirror_mode": {
    "name": "ipython",
    "version": 3
   },
   "file_extension": ".py",
   "mimetype": "text/x-python",
   "name": "python",
   "nbconvert_exporter": "python",
   "pygments_lexer": "ipython3",
   "version": "3.8.10"
  }
 },
 "nbformat": 4,
 "nbformat_minor": 5
}
